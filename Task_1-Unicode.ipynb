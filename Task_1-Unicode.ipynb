{
 "cells": [
  {
   "cell_type": "code",
   "execution_count": 1,
   "metadata": {},
   "outputs": [],
   "source": [
    "def bintodeci(str_in):\n",
    "    deci = []\n",
    "    for char in str_in:\n",
    "        a = int(char)\n",
    "        deci.append(a)\n",
    "    d_no=0\n",
    "    for i in range(len(deci)):\n",
    "        d_no+= deci[len(deci)-i-1]*(2**i)\n",
    "    return d_no"
   ]
  },
  {
   "cell_type": "code",
   "execution_count": 2,
   "metadata": {},
   "outputs": [],
   "source": [
    "def decitobin(no):\n",
    "    return bin(no)"
   ]
  },
  {
   "cell_type": "code",
   "execution_count": 4,
   "metadata": {},
   "outputs": [
    {
     "name": "stdout",
     "output_type": "stream",
     "text": [
      "Enter the String: 010,1111,1010,10010,100000,10100,110\n",
      "Printing numbers divisible by 5 in binary format: \n",
      "1111,1010,10100 "
     ]
    }
   ],
   "source": [
    "str = input(\"Enter the String: \")\n",
    "words=str.split(',')\n",
    "ans=[]\n",
    "for i in range(len(words)):\n",
    "    d= bintodeci(words[i])\n",
    "    if d%5==0:\n",
    "        ans.append(d)    #we can also append word straightaway\n",
    "print(\"Printing numbers divisible by 5 in binary format: \")\n",
    "for i in range(len(ans)):\n",
    "    n=decitobin(ans[i])\n",
    "    print(n[2:], end=(','if i!=len(ans)-1 else ' '))"
   ]
  },
  {
   "cell_type": "code",
   "execution_count": null,
   "metadata": {},
   "outputs": [],
   "source": []
  },
  {
   "cell_type": "code",
   "execution_count": null,
   "metadata": {},
   "outputs": [],
   "source": []
  }
 ],
 "metadata": {
  "kernelspec": {
   "display_name": "Python 3",
   "language": "python",
   "name": "python3"
  },
  "language_info": {
   "codemirror_mode": {
    "name": "ipython",
    "version": 3
   },
   "file_extension": ".py",
   "mimetype": "text/x-python",
   "name": "python",
   "nbconvert_exporter": "python",
   "pygments_lexer": "ipython3",
   "version": "3.7.1"
  }
 },
 "nbformat": 4,
 "nbformat_minor": 2
}
